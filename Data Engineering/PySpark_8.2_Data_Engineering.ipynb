{
 "cells": [
  {
   "cell_type": "markdown",
   "metadata": {},
   "source": [
    "### Data Engineering"
   ]
  },
  {
   "cell_type": "markdown",
   "metadata": {},
   "source": [
    "<b>Данные для обработки</b> - аналитика кликов и просмотров рекламы в рекламной компании (файл clickstream.parquet)\n",
    "\n",
    "Структура данных:\n",
    "\n",
    "<b>date</b>\tдень, в который происходят события\n",
    "\n",
    "<b>time</b>\tточное время события\n",
    "\n",
    "<b>event</b>\tтип события, может быть или пока или клик по рекламе\n",
    "\n",
    "<b>platform\tплатформа</b>, на которой произошло рекламное событие\n",
    "\n",
    "<b>ad_id</b>\tid рекламного объявления\n",
    "\n",
    "<b>client_union_id</b>\tid рекламного клиента\n",
    "\n",
    "<b>campaign_union_id</b>\tid рекламной кампании\n",
    "\n",
    "<b>ad_cost_type</b>\tтип объявления с оплатой за клики (CPC) или за показы (CPM)\n",
    "\n",
    "<b>ad_cost</b>\tстоимость объявления в рублях, для CPC объявлений - это цена за клик, для CPM - цена за 1000 показов\n",
    "\n",
    "<b>has_video</b>\tесть ли у рекламного объявления видео\n",
    "\n",
    "<b>target_audience_count</b>\tразмер аудитории, на которую таргетируется объявление"
   ]
  },
  {
   "cell_type": "markdown",
   "metadata": {},
   "source": [
    "### Задача\n",
    "\n",
    "Реализовать на PySpark задачу обработки данных для их подготовки к обучению моделей\n",
    "\n",
    "В результате выполнения вашей задачи, например, выполнив команду:\n",
    "\n",
    "<b>spark-submit PySparkJob.py clickstream.parquet result</b>\n",
    "\n",
    "Вы должны прочитать указанный в параметрах файл, обработать его и получить структуру папок вида:\n",
    "\n",
    "/result/train\n",
    "\n",
    "/result/test\n",
    "\n",
    "/result/validate\n",
    "\n",
    "С наборами данных в следующем соотношении train/test/validate = 0.5/0.25/0.25 "
   ]
  },
  {
   "cell_type": "code",
   "execution_count": 1,
   "metadata": {},
   "outputs": [],
   "source": [
    "import io\n",
    "import sys\n",
    "from pyspark.sql import SparkSession\n",
    "from pyspark.sql.functions import col, datediff, udf, lit\n",
    "from pyspark.sql import functions as F\n",
    "from pyspark.sql.types import IntegerType"
   ]
  },
  {
   "cell_type": "code",
   "execution_count": 2,
   "metadata": {},
   "outputs": [],
   "source": [
    "def _spark_session():\n",
    "    return SparkSession.builder.appName('PySparkJob').getOrCreate()"
   ]
  },
  {
   "cell_type": "code",
   "execution_count": 3,
   "metadata": {},
   "outputs": [],
   "source": [
    "spark=_spark_session()"
   ]
  },
  {
   "cell_type": "code",
   "execution_count": 7,
   "metadata": {},
   "outputs": [
    {
     "data": {
      "text/html": [
       "\n",
       "            <div>\n",
       "                <p><b>SparkSession - in-memory</b></p>\n",
       "                \n",
       "        <div>\n",
       "            <p><b>SparkContext</b></p>\n",
       "\n",
       "            <p><a href=\"http://BORODA.mshome.net:4040\">Spark UI</a></p>\n",
       "\n",
       "            <dl>\n",
       "              <dt>Version</dt>\n",
       "                <dd><code>v2.4.5</code></dd>\n",
       "              <dt>Master</dt>\n",
       "                <dd><code>local[*]</code></dd>\n",
       "              <dt>AppName</dt>\n",
       "                <dd><code>PySparkJob</code></dd>\n",
       "            </dl>\n",
       "        </div>\n",
       "        \n",
       "            </div>\n",
       "        "
      ],
      "text/plain": [
       "<pyspark.sql.session.SparkSession at 0x2acec9f9688>"
      ]
     },
     "execution_count": 7,
     "metadata": {},
     "output_type": "execute_result"
    }
   ],
   "source": [
    "spark"
   ]
  },
  {
   "cell_type": "code",
   "execution_count": 4,
   "metadata": {},
   "outputs": [],
   "source": [
    "input_file=spark.read.parquet('clickstream.parquet')"
   ]
  },
  {
   "cell_type": "code",
   "execution_count": 5,
   "metadata": {},
   "outputs": [
    {
     "name": "stdout",
     "output_type": "stream",
     "text": [
      "root\n",
      " |-- date: date (nullable = true)\n",
      " |-- time: timestamp (nullable = true)\n",
      " |-- event: string (nullable = true)\n",
      " |-- platform: string (nullable = true)\n",
      " |-- ad_id: integer (nullable = true)\n",
      " |-- client_union_id: integer (nullable = true)\n",
      " |-- compaign_union_id: integer (nullable = true)\n",
      " |-- ad_cost_type: string (nullable = true)\n",
      " |-- ad_cost: double (nullable = true)\n",
      " |-- has_video: integer (nullable = true)\n",
      " |-- target_audience_count: decimal(10,0) (nullable = true)\n",
      "\n"
     ]
    }
   ],
   "source": [
    "input_file.printSchema()"
   ]
  },
  {
   "cell_type": "markdown",
   "metadata": {},
   "source": [
    "### Подход 1 \n",
    "\n",
    "(файл - PySparkJob1.py)\n",
    "\n",
    "Добавляем к оригинальной таблице новые колонки , которые нужны для анализа.\n",
    "Размер таблицы остается тот же (1 000 000 строк).\n",
    "Далее делаем отбор нужных колонок.\n",
    "В итоге из 1 000 000 строк отбираем примерно 1000, которую уже и разбиаем на треннировку , тест и валидацию.\n",
    "Данное разбиение происходит довольно долго.\n",
    "- Время выполнения терминальной операции после отбора нужных колнок - <b>1.5 минуты.</b>\n",
    "- При разбиении на треннировку, тест, валидацию - общее время <b>4.5 минут.</b>\n",
    "\n",
    "Данный подход оказывается медленным, но в итоге, при получении новой таблицы, мы сохраняем исходную размерность и можем проводить отбор альтернативного набора колонок, если в будущем будут другие задачи."
   ]
  },
  {
   "cell_type": "code",
   "execution_count": 6,
   "metadata": {},
   "outputs": [],
   "source": [
    "#определяем является ли тип объявления CPM\n",
    "#указываем IntegerType, по умолчанию строка\n",
    "func_is_cpm = udf(lambda x: 1 if x=='CPM' else 0,returnType=IntegerType())\n",
    "\n",
    "#определяем является ли тип объявления CPC\n",
    "#указываем IntegerType, по умолчанию строка\n",
    "func_is_cpc = udf(lambda x: 1 if x=='CPC' else 0,returnType=IntegerType())\n",
    "\n",
    "#добавляем колонку day_count\n",
    "def func_day_count_add(input_file):\n",
    "    \n",
    "    #создаем DF - группируем исходный по ad_id, для событий с просмотрами,\n",
    "    #находим для каждого ad_id timestamp первого и последнего просмотров\n",
    "    df_timestamps=input_file.where(col('event')=='view').groupBy('ad_id')\\\n",
    "                              .agg(F.min('date').alias('timestamp_first_view'),\\\n",
    "                                   F.max('date').alias('timestamp_last_view'))\n",
    "    \n",
    "    #добавляем к созданному DF колонку с количеством дней, когда показывалась реклама,\n",
    "    #считаем разницу в днях между первым и последним показом\n",
    "    df_day_count=df_timestamps.withColumn('day_count',datediff( col('timestamp_last_view'),\\\n",
    "                                              col('timestamp_first_view') ))\n",
    "    \n",
    "    #делаем outer join исходного DF и колонки day_count из нового DF по ad_id, в результате для некоторых объявлений\n",
    "    # в колонке day_count будут Null значения, что является маркером того, что для данного ad_id\n",
    "    # в БД отражены события связанные с кликами\n",
    "    df_joined=input_file.join(df_day_count, ['ad_id'], how='outer').orderBy('day_count').fillna({'day_count':0})\n",
    "    \n",
    "    return df_joined\n",
    "\n",
    "#добавляем колонку CTR\n",
    "def func_CTR_add(input_file):\n",
    "    #создаем DF - группируя исходный DF по ad_id и считаем количество кликов для каждого  \n",
    "    df_clicks=input_file.where(col('event')=='click').groupBy('ad_id').agg(F.count('event').alias('clicks_number'))\n",
    "    \n",
    "    #создаем DF - группируя исходный DF по ad_id и считаем количество показов для каждого  \n",
    "    df_views=input_file.where(col('event')=='view').groupBy('ad_id').agg(F.count('event').alias('views_number'))\n",
    "    \n",
    "    #объединяем полученные DF-мы с исходным DF (т.е. добавляем 2 новые колонки - клики и показы), null в соответствующих\n",
    "    #колонках заполняем 0-ми\n",
    "    df_joined=input_file.join(df_clicks, ['ad_id'], how='outer')\\\n",
    "                        .join(df_views, ['ad_id'], how='outer')\\\n",
    "                        .fillna({'clicks_number':0,'views_number':0 })\n",
    "    \n",
    "    #добавляем колонку CTR к итоговому DF и переопределяем его с тем же именем\n",
    "    df_joined=df_joined.withColumn('CTR',col('clicks_number')/col('views_number'))\n",
    "    \n",
    "    return df_joined\n",
    "\n",
    "#последовательно добавляем все новые колонки, получаем итоговый DF\n",
    "def transform_pipeline(input_file):\n",
    "    \n",
    "    #добавляем колонку day_count\n",
    "    new_input_file=func_day_count_add(input_file)\n",
    "    \n",
    "    #добавляем колонку CTR\n",
    "    new_input_file=func_CTR_add(new_input_file)\n",
    "    \n",
    "    #добавляем колонки is_cpm и is_cpc\n",
    "    new_input_file=new_input_file.withColumn('is_cpm',  func_is_cpm(col('ad_cost_type')))\\\n",
    "                                 .withColumn('is_cpc',  func_is_cpc(col('ad_cost_type')))\n",
    "    \n",
    "    return new_input_file\n",
    "\n",
    "#делаем разбиение, записываем результат по соответствующему пути\n",
    "def get_result(DF, path):\n",
    "    splits=DF.randomSplit([0.5,0.25,0.25],seed=0)\n",
    "    \n",
    "    splits[0].coalesce(1).write.option('header','true').parquet(str(path)+'/train')\n",
    "    splits[1].coalesce(1).write.option('header','true').parquet(str(path)+'/test')\n",
    "    splits[2].coalesce(1).write.option('header','true').parquet(str(path)+'/validate')"
   ]
  },
  {
   "cell_type": "markdown",
   "metadata": {},
   "source": [
    "####  Создаем DF с заданной структурой:"
   ]
  },
  {
   "attachments": {
    "image.png": {
     "image/png": "[encoded data removed]"
    }
   },
   "cell_type": "markdown",
   "metadata": {},
   "source": [
    "![image.png](attachment:image.png)"
   ]
  },
  {
   "cell_type": "code",
   "execution_count": 7,
   "metadata": {},
   "outputs": [
    {
     "name": "stdout",
     "output_type": "stream",
     "text": [
      "root\n",
      " |-- ad_id: integer (nullable = true)\n",
      " |-- target_audience_count: decimal(10,0) (nullable = true)\n",
      " |-- has_video: integer (nullable = true)\n",
      " |-- is_cpm: integer (nullable = true)\n",
      " |-- is_cpc: integer (nullable = true)\n",
      " |-- ad_cost: double (nullable = true)\n",
      " |-- day_count: integer (nullable = true)\n",
      " |-- CTR: double (nullable = true)\n",
      "\n"
     ]
    }
   ],
   "source": [
    "DF=transform_pipeline(input_file)[['ad_id','target_audience_count','has_video','is_cpm','is_cpc','ad_cost','day_count','CTR']]\n",
    "DF.printSchema()"
   ]
  },
  {
   "cell_type": "markdown",
   "metadata": {},
   "source": [
    "Проверяем время работы с помощью SQL + терминальная show()"
   ]
  },
  {
   "cell_type": "code",
   "execution_count": 89,
   "metadata": {},
   "outputs": [],
   "source": [
    "DF.createOrReplaceTempView('DF')"
   ]
  },
  {
   "cell_type": "code",
   "execution_count": 108,
   "metadata": {},
   "outputs": [
    {
     "name": "stdout",
     "output_type": "stream",
     "text": [
      "+-----+---------------------+---------+------+------+-------+---------+--------------------+\n",
      "|ad_id|target_audience_count|has_video|is_cpm|is_cpc|ad_cost|day_count|                 CTR|\n",
      "+-----+---------------------+---------+------+------+-------+---------+--------------------+\n",
      "|38034|                40828|        0|     1|     0|  205.6|        1| 0.00586756077116513|\n",
      "|27845|                51515|        0|     1|     0|  210.1|        1| 0.01276595744680851|\n",
      "|29978|                26280|        0|     1|     0|  209.4|        1|0.018726591760299626|\n",
      "|26250|                67416|        0|     1|     0|  209.5|        1|                 0.0|\n",
      "+-----+---------------------+---------+------+------+-------+---------+--------------------+\n",
      "only showing top 4 rows\n",
      "\n",
      "Wall time: 1min 34s\n"
     ]
    }
   ],
   "source": [
    "%%time\n",
    "spark.sql('SELECT DISTINCT ad_id, \\\n",
    "                  target_audience_count, \\\n",
    "                  has_video,\\\n",
    "                  is_cpm, \\\n",
    "                  is_cpc, \\\n",
    "                  ad_cost, \\\n",
    "                  day_count,\\\n",
    "                  CTR\\\n",
    "         FROM DF').show(4)"
   ]
  },
  {
   "cell_type": "markdown",
   "metadata": {},
   "source": [
    "Проверяем время работы с помощью distinct() + терминальная show()"
   ]
  },
  {
   "cell_type": "code",
   "execution_count": 109,
   "metadata": {},
   "outputs": [
    {
     "name": "stdout",
     "output_type": "stream",
     "text": [
      "+------+---------------------+---------+------+------+-------+---------+-------------------+\n",
      "| ad_id|target_audience_count|has_video|is_cpm|is_cpc|ad_cost|day_count|                CTR|\n",
      "+------+---------------------+---------+------+------+-------+---------+-------------------+\n",
      "| 46071|               207759|        0|     1|     0|  221.6|        1|                0.0|\n",
      "| 34633|                 1406|        0|     1|     0|  195.9|        1|0.05263157894736842|\n",
      "|120127|                 4515|        0|     1|     0|  194.1|        1|0.08108108108108109|\n",
      "|118186|                56578|        0|     1|     0|  206.7|        1|                0.0|\n",
      "+------+---------------------+---------+------+------+-------+---------+-------------------+\n",
      "only showing top 4 rows\n",
      "\n",
      "Wall time: 1min 28s\n"
     ]
    }
   ],
   "source": [
    "%%time\n",
    "DF.distinct().show(4)"
   ]
  },
  {
   "cell_type": "markdown",
   "metadata": {},
   "source": [
    "Делаем разбиение на train/test/validate с помщью randomSplit и записываем результат по указанному пути"
   ]
  },
  {
   "cell_type": "code",
   "execution_count": 112,
   "metadata": {},
   "outputs": [
    {
     "name": "stdout",
     "output_type": "stream",
     "text": [
      "Wall time: 4min 38s\n"
     ]
    }
   ],
   "source": [
    "%%time\n",
    "get_result(DF.distinct(),'RESULTAT')"
   ]
  },
  {
   "cell_type": "markdown",
   "metadata": {},
   "source": [
    "### Подход 2\n",
    "\n",
    "(файл PySparkJob2.py)\n",
    "\n",
    "В предыдущем подходе низкое быстродествие обусловленно тем, что мы собирали итоговую таблицу делая полный джойн при добавлении каждой из колонок, в результате чего, после отбора нужных колонок в таблицы было много джубликатов, удаление которых занимает много времени.\n",
    "\n",
    "Альтернативный вариант - последовательно создаем новые колонки путем группировки по ad_id и собираем их в новую таблицу небольшого размера, в конечной итерации делаем джойн с колонками из исходной таблицы.\n",
    "\n",
    "Такой подход имеет значительно более высокое быстродействие.\n",
    "\n",
    "- При разбиении на треннировку, тест, валидацию - общее время <b>18 сек</b>"
   ]
  },
  {
   "cell_type": "code",
   "execution_count": 21,
   "metadata": {},
   "outputs": [],
   "source": [
    "#создаем новый DF из исходного, получаем day_count колонку\n",
    "def func_day_count_DF(input_file):\n",
    "    \n",
    "    #создаем DF - группируем исходный по ad_id, для событий с просмотрами,\n",
    "    #находим для каждого ad_id timestamp первого и последнего просмотров\n",
    "    df_timestamps=input_file.where(col('event')=='view').groupBy('ad_id')\\\n",
    "                              .agg(F.min('date').alias('timestamp_first_view'),\\\n",
    "                                   F.max('date').alias('timestamp_last_view'))\n",
    "    \n",
    "    #добавляем к созданному DF колонку с количеством дней, когда показывалась реклама,\n",
    "    #считаем разницу в днях между первым и последним показом\n",
    "    df_day_count=df_timestamps.withColumn('day_count',datediff( col('timestamp_last_view'),\\\n",
    "                                              col('timestamp_first_view') ))\n",
    "    \n",
    "    #оставляем только нужные колонки для последующих операций ad_id и day_count\n",
    "    df_day_count=df_day_count.drop('timestamp_first_view','timestamp_last_view')\n",
    "    \n",
    "    #получаем 956 строк - ad_id, для которых были просмотры (в данный DF не вошли ad_id, для которых\n",
    "    #есть клики, но нет просмотров)\n",
    "    return df_day_count\n",
    "\n",
    "#создаем новый DF из исходного, получаем CTR колонку\n",
    "def func_CTR_DF(input_file):\n",
    "    #создаем DF - группируя исходный DF по ad_id и считаем количество кликов для каждого  \n",
    "    df_clicks=input_file.where(col('event')=='click').groupBy('ad_id').agg(F.count('event').alias('clicks_number'))\n",
    "    \n",
    "    #создаем DF - группируя исходный DF по ad_id и считаем количество показов для каждого  \n",
    "    df_views=input_file.where(col('event')=='view').groupBy('ad_id').agg(F.count('event').alias('views_number'))\n",
    "    \n",
    "    #объединяем полученные DF-мы с исходным DF (т.е. добавляем 2 новые колонки - клики и показы), null в соответствующих\n",
    "    #колонках заполняем 0-ми\n",
    "    df_CTR=df_clicks.join(df_views, ['ad_id'], how='outer')\\\n",
    "                        .fillna({'clicks_number':0,'views_number':0 })\n",
    "    \n",
    "    #добавляем колонку CTR к полученному DF и переопределяем его с тем же именем, null заменяем бесконечностью\n",
    "    #по идее на данном этапе строки с null уже можно удалить\n",
    "    df_CTR=df_CTR.withColumn('CTR',col('clicks_number')/col('views_number'))\\\n",
    "                        .fillna({'CTR':float('inf')})\n",
    "    \n",
    "    #оставляем только нужные колонки\n",
    "    df_CTR=df_CTR.drop('clicks_number','views_number')\n",
    "    \n",
    "    return df_CTR\n",
    "\n",
    "\n",
    "#определяем является ли тип объявления CPM\n",
    "#указываем IntegerType, по умолчанию строка\n",
    "func_is_cpm = udf(lambda x: 1 if x=='CPM' else 0,returnType=IntegerType())\n",
    "\n",
    "#определяем является ли тип объявления CPC\n",
    "#указываем IntegerType, по умолчанию строка\n",
    "func_is_cpc = udf(lambda x: 1 if x=='CPC' else 0,returnType=IntegerType())\n",
    "\n",
    "#собираем все преобразования в одну функцию\n",
    "def func_joining(input_file):\n",
    "    \n",
    "    #получаем day_count колонку\n",
    "    df_day_count=func_day_count_DF(input_file)\n",
    "    \n",
    "    #получаем CTR колонку\n",
    "    df_CTR=func_CTR_DF(input_file)\n",
    "    \n",
    "    #добавляем к исходному DF колонки is_cpm и is_cpc используя udf (данный DF содержит 1 000 000)\n",
    "    new_input_file=input_file.withColumn('is_cpm',  func_is_cpm(col('ad_cost_type')))\\\n",
    "                                 .withColumn('is_cpc',  func_is_cpc(col('ad_cost_type')))\n",
    "    \n",
    "    \n",
    "    #объединяем df_day_count и df_CTR, далее добавляем нужные колонки из new_input_file \n",
    "    Result_DF=df_day_count.join(df_CTR,['ad_id'], how='outer')\\\n",
    "                                       .join(new_input_file[['ad_id',\n",
    "                                                             'ad_cost',\n",
    "                                                             'target_audience_count',\n",
    "                                                             'has_video',\n",
    "                                                             'is_cpm',\n",
    "                                                             'is_cpc']], ['ad_id'],how='outer')\n",
    "\n",
    "    \n",
    "    return Result_DF\n",
    "\n",
    "#делаем разбиение, записываем результат по соответствующему пути\n",
    "def get_result(DF, path):\n",
    "    splits=DF.randomSplit([0.5,0.25,0.25],seed=0)\n",
    "    \n",
    "    splits[0].coalesce(1).write.option('header','true').parquet(str(path)+'/train')\n",
    "    splits[1].coalesce(1).write.option('header','true').parquet(str(path)+'/test')\n",
    "    splits[2].coalesce(1).write.option('header','true').parquet(str(path)+'/validate')"
   ]
  },
  {
   "cell_type": "markdown",
   "metadata": {},
   "source": [
    "####  Создаем DF с заданной структурой:"
   ]
  },
  {
   "cell_type": "code",
   "execution_count": 19,
   "metadata": {},
   "outputs": [
    {
     "name": "stdout",
     "output_type": "stream",
     "text": [
      "root\n",
      " |-- ad_id: integer (nullable = true)\n",
      " |-- target_audience_count: decimal(10,0) (nullable = true)\n",
      " |-- has_video: integer (nullable = true)\n",
      " |-- is_cpm: integer (nullable = true)\n",
      " |-- is_cpc: integer (nullable = true)\n",
      " |-- ad_cost: double (nullable = true)\n",
      " |-- day_count: integer (nullable = true)\n",
      " |-- CTR: double (nullable = true)\n",
      "\n",
      "Wall time: 195 ms\n"
     ]
    }
   ],
   "source": [
    "%%time\n",
    "DF2=func_joining(input_file)[['ad_id','target_audience_count','has_video','is_cpm','is_cpc','ad_cost','day_count','CTR']]\n",
    "DF2.printSchema()"
   ]
  },
  {
   "cell_type": "code",
   "execution_count": 20,
   "metadata": {},
   "outputs": [
    {
     "name": "stdout",
     "output_type": "stream",
     "text": [
      "+------+---------------------+---------+------+------+-------+---------+--------------------+\n",
      "| ad_id|target_audience_count|has_video|is_cpm|is_cpc|ad_cost|day_count|                 CTR|\n",
      "+------+---------------------+---------+------+------+-------+---------+--------------------+\n",
      "| 43967|                39676|        0|     1|     0|  205.6|        1|                 0.0|\n",
      "| 15926|                87378|        0|     1|     0|  188.3|        1|0.005882352941176...|\n",
      "| 25419|                68355|        0|     1|     0|  191.2|        1|                 0.0|\n",
      "|114019|               265581|        0|     1|     0|  194.5|        1|                 0.0|\n",
      "+------+---------------------+---------+------+------+-------+---------+--------------------+\n",
      "only showing top 4 rows\n",
      "\n",
      "Wall time: 5.5 s\n"
     ]
    }
   ],
   "source": [
    "%%time\n",
    "DF2.distinct().show(4)"
   ]
  },
  {
   "cell_type": "markdown",
   "metadata": {},
   "source": [
    "Делаем разбиение на train/test/validate с помщью randomSplit и записываем результат по указанному пути"
   ]
  },
  {
   "cell_type": "code",
   "execution_count": 22,
   "metadata": {},
   "outputs": [
    {
     "name": "stdout",
     "output_type": "stream",
     "text": [
      "Wall time: 18 s\n"
     ]
    }
   ],
   "source": [
    "%%time\n",
    "get_result(DF2.distinct(),'RESULTAT_RES')"
   ]
  },
  {
   "cell_type": "markdown",
   "metadata": {},
   "source": [
    "Проверяем, что оба подхода создают нам одинаковые DF (проверяем итоговую, исходную размерность, схемы)"
   ]
  },
  {
   "cell_type": "markdown",
   "metadata": {},
   "source": [
    "#### Подход 2"
   ]
  },
  {
   "cell_type": "code",
   "execution_count": 11,
   "metadata": {},
   "outputs": [
    {
     "name": "stdout",
     "output_type": "stream",
     "text": [
      "Wall time: 7.69 s\n"
     ]
    },
    {
     "data": {
      "text/plain": [
       "965"
      ]
     },
     "execution_count": 11,
     "metadata": {},
     "output_type": "execute_result"
    }
   ],
   "source": [
    "%%time\n",
    "DF2.distinct().count()"
   ]
  },
  {
   "cell_type": "markdown",
   "metadata": {},
   "source": [
    "#### Подход 1"
   ]
  },
  {
   "cell_type": "code",
   "execution_count": 13,
   "metadata": {},
   "outputs": [
    {
     "name": "stdout",
     "output_type": "stream",
     "text": [
      "Wall time: 1min 28s\n"
     ]
    },
    {
     "data": {
      "text/plain": [
       "965"
      ]
     },
     "execution_count": 13,
     "metadata": {},
     "output_type": "execute_result"
    }
   ],
   "source": [
    "%%time\n",
    "DF.distinct().count()"
   ]
  },
  {
   "cell_type": "code",
   "execution_count": 14,
   "metadata": {},
   "outputs": [
    {
     "name": "stdout",
     "output_type": "stream",
     "text": [
      "root\n",
      " |-- ad_id: integer (nullable = true)\n",
      " |-- target_audience_count: decimal(10,0) (nullable = true)\n",
      " |-- has_video: integer (nullable = true)\n",
      " |-- is_cpm: integer (nullable = true)\n",
      " |-- is_cpc: integer (nullable = true)\n",
      " |-- ad_cost: double (nullable = true)\n",
      " |-- day_count: integer (nullable = true)\n",
      " |-- CTR: double (nullable = true)\n",
      "\n"
     ]
    }
   ],
   "source": [
    "DF2.printSchema()"
   ]
  },
  {
   "cell_type": "code",
   "execution_count": 15,
   "metadata": {},
   "outputs": [
    {
     "name": "stdout",
     "output_type": "stream",
     "text": [
      "root\n",
      " |-- ad_id: integer (nullable = true)\n",
      " |-- target_audience_count: decimal(10,0) (nullable = true)\n",
      " |-- has_video: integer (nullable = true)\n",
      " |-- is_cpm: integer (nullable = true)\n",
      " |-- is_cpc: integer (nullable = true)\n",
      " |-- ad_cost: double (nullable = true)\n",
      " |-- day_count: integer (nullable = true)\n",
      " |-- CTR: double (nullable = true)\n",
      "\n"
     ]
    }
   ],
   "source": [
    "DF.printSchema()"
   ]
  },
  {
   "cell_type": "code",
   "execution_count": 18,
   "metadata": {},
   "outputs": [
    {
     "name": "stdout",
     "output_type": "stream",
     "text": [
      "1000000\n",
      "1000000\n"
     ]
    }
   ],
   "source": [
    "print(DF.count())\n",
    "print(DF2.count())"
   ]
  },
  {
   "cell_type": "markdown",
   "metadata": {},
   "source": []
  }
 ],
 "metadata": {
  "kernelspec": {
   "display_name": "Python 3",
   "language": "python",
   "name": "python3"
  },
  "language_info": {
   "codemirror_mode": {
    "name": "ipython",
    "version": 3
   },
   "file_extension": ".py",
   "mimetype": "text/x-python",
   "name": "python",
   "nbconvert_exporter": "python",
   "pygments_lexer": "ipython3",
   "version": "3.7.4"
  }
 },
 "nbformat": 4,
 "nbformat_minor": 2
}
